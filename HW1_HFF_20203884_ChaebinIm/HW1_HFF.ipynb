{
 "cells": [
  {
   "cell_type": "code",
   "execution_count": 1,
   "metadata": {},
   "outputs": [],
   "source": [
    "import pandas as pd\n",
    "import matplotlib.pyplot as plt\n",
    "import numpy as np\n",
    "from IPython.core.interactiveshell import InteractiveShell\n",
    "InteractiveShell.ast_node_interactivity = \"all\" # 한 실행칸에 프린트 여러개 해도 다 출력시키도록 하는 코드."
   ]
  },
  {
   "cell_type": "markdown",
   "metadata": {},
   "source": [
    "# 4번"
   ]
  },
  {
   "cell_type": "code",
   "execution_count": 2,
   "metadata": {},
   "outputs": [],
   "source": [
    "data4 = pd.read_excel('./MSFT.xlsx')"
   ]
  },
  {
   "cell_type": "code",
   "execution_count": 3,
   "metadata": {},
   "outputs": [
    {
     "data": {
      "text/html": [
       "<div>\n",
       "<style scoped>\n",
       "    .dataframe tbody tr th:only-of-type {\n",
       "        vertical-align: middle;\n",
       "    }\n",
       "\n",
       "    .dataframe tbody tr th {\n",
       "        vertical-align: top;\n",
       "    }\n",
       "\n",
       "    .dataframe thead th {\n",
       "        text-align: right;\n",
       "    }\n",
       "</style>\n",
       "<table border=\"1\" class=\"dataframe\">\n",
       "  <thead>\n",
       "    <tr style=\"text-align: right;\">\n",
       "      <th></th>\n",
       "      <th>일자</th>\n",
       "      <th>시간</th>\n",
       "      <th>종가</th>\n",
       "    </tr>\n",
       "  </thead>\n",
       "  <tbody>\n",
       "    <tr>\n",
       "      <th>0</th>\n",
       "      <td>2020/11/17</td>\n",
       "      <td>15:57:00</td>\n",
       "      <td>214.66</td>\n",
       "    </tr>\n",
       "    <tr>\n",
       "      <th>1</th>\n",
       "      <td>2020/11/17</td>\n",
       "      <td>15:57:00</td>\n",
       "      <td>214.65</td>\n",
       "    </tr>\n",
       "    <tr>\n",
       "      <th>2</th>\n",
       "      <td>2020/11/17</td>\n",
       "      <td>15:57:00</td>\n",
       "      <td>214.66</td>\n",
       "    </tr>\n",
       "    <tr>\n",
       "      <th>3</th>\n",
       "      <td>2020/11/17</td>\n",
       "      <td>15:57:00</td>\n",
       "      <td>214.67</td>\n",
       "    </tr>\n",
       "    <tr>\n",
       "      <th>4</th>\n",
       "      <td>2020/11/17</td>\n",
       "      <td>15:57:00</td>\n",
       "      <td>214.65</td>\n",
       "    </tr>\n",
       "  </tbody>\n",
       "</table>\n",
       "</div>"
      ],
      "text/plain": [
       "           일자        시간      종가\n",
       "0  2020/11/17  15:57:00  214.66\n",
       "1  2020/11/17  15:57:00  214.65\n",
       "2  2020/11/17  15:57:00  214.66\n",
       "3  2020/11/17  15:57:00  214.67\n",
       "4  2020/11/17  15:57:00  214.65"
      ]
     },
     "execution_count": 3,
     "metadata": {},
     "output_type": "execute_result"
    }
   ],
   "source": [
    "data4.head()"
   ]
  },
  {
   "cell_type": "code",
   "execution_count": 4,
   "metadata": {},
   "outputs": [
    {
     "data": {
      "text/plain": [
       "일자     object\n",
       "시간     object\n",
       "종가    float64\n",
       "dtype: object"
      ]
     },
     "execution_count": 4,
     "metadata": {},
     "output_type": "execute_result"
    }
   ],
   "source": [
    "data4.dtypes"
   ]
  },
  {
   "cell_type": "code",
   "execution_count": 5,
   "metadata": {},
   "outputs": [],
   "source": [
    "data4.columns = ['date', 'time', 'close']"
   ]
  },
  {
   "cell_type": "code",
   "execution_count": 6,
   "metadata": {},
   "outputs": [],
   "source": [
    "data4 = data4[data4['date'] == '2020/11/18']\n",
    "data4.reset_index(drop = True, inplace = True)"
   ]
  },
  {
   "cell_type": "code",
   "execution_count": 7,
   "metadata": {},
   "outputs": [],
   "source": [
    "data4['close'] = np.log(data4['close'])"
   ]
  },
  {
   "cell_type": "code",
   "execution_count": 43,
   "metadata": {},
   "outputs": [
    {
     "data": {
      "text/html": [
       "<div>\n",
       "<style scoped>\n",
       "    .dataframe tbody tr th:only-of-type {\n",
       "        vertical-align: middle;\n",
       "    }\n",
       "\n",
       "    .dataframe tbody tr th {\n",
       "        vertical-align: top;\n",
       "    }\n",
       "\n",
       "    .dataframe thead th {\n",
       "        text-align: right;\n",
       "    }\n",
       "</style>\n",
       "<table border=\"1\" class=\"dataframe\">\n",
       "  <thead>\n",
       "    <tr style=\"text-align: right;\">\n",
       "      <th></th>\n",
       "      <th>date</th>\n",
       "      <th>time</th>\n",
       "      <th>close</th>\n",
       "    </tr>\n",
       "  </thead>\n",
       "  <tbody>\n",
       "    <tr>\n",
       "      <th>0</th>\n",
       "      <td>2020/11/18</td>\n",
       "      <td>06:00:00</td>\n",
       "      <td>5.368869</td>\n",
       "    </tr>\n",
       "    <tr>\n",
       "      <th>1</th>\n",
       "      <td>2020/11/18</td>\n",
       "      <td>06:00:00</td>\n",
       "      <td>5.368869</td>\n",
       "    </tr>\n",
       "    <tr>\n",
       "      <th>2</th>\n",
       "      <td>2020/11/18</td>\n",
       "      <td>06:00:00</td>\n",
       "      <td>5.366256</td>\n",
       "    </tr>\n",
       "    <tr>\n",
       "      <th>3</th>\n",
       "      <td>2020/11/18</td>\n",
       "      <td>06:00:00</td>\n",
       "      <td>5.366210</td>\n",
       "    </tr>\n",
       "    <tr>\n",
       "      <th>4</th>\n",
       "      <td>2020/11/18</td>\n",
       "      <td>06:00:00</td>\n",
       "      <td>5.366210</td>\n",
       "    </tr>\n",
       "    <tr>\n",
       "      <th>...</th>\n",
       "      <td>...</td>\n",
       "      <td>...</td>\n",
       "      <td>...</td>\n",
       "    </tr>\n",
       "    <tr>\n",
       "      <th>62415</th>\n",
       "      <td>2020/11/18</td>\n",
       "      <td>15:57:00</td>\n",
       "      <td>5.353511</td>\n",
       "    </tr>\n",
       "    <tr>\n",
       "      <th>62416</th>\n",
       "      <td>2020/11/18</td>\n",
       "      <td>15:57:00</td>\n",
       "      <td>5.353516</td>\n",
       "    </tr>\n",
       "    <tr>\n",
       "      <th>62417</th>\n",
       "      <td>2020/11/18</td>\n",
       "      <td>15:57:00</td>\n",
       "      <td>5.353492</td>\n",
       "    </tr>\n",
       "    <tr>\n",
       "      <th>62418</th>\n",
       "      <td>2020/11/18</td>\n",
       "      <td>15:57:00</td>\n",
       "      <td>5.353468</td>\n",
       "    </tr>\n",
       "    <tr>\n",
       "      <th>62419</th>\n",
       "      <td>2020/11/18</td>\n",
       "      <td>15:57:00</td>\n",
       "      <td>5.353516</td>\n",
       "    </tr>\n",
       "  </tbody>\n",
       "</table>\n",
       "<p>62420 rows × 3 columns</p>\n",
       "</div>"
      ],
      "text/plain": [
       "             date      time     close\n",
       "0      2020/11/18  06:00:00  5.368869\n",
       "1      2020/11/18  06:00:00  5.368869\n",
       "2      2020/11/18  06:00:00  5.366256\n",
       "3      2020/11/18  06:00:00  5.366210\n",
       "4      2020/11/18  06:00:00  5.366210\n",
       "...           ...       ...       ...\n",
       "62415  2020/11/18  15:57:00  5.353511\n",
       "62416  2020/11/18  15:57:00  5.353516\n",
       "62417  2020/11/18  15:57:00  5.353492\n",
       "62418  2020/11/18  15:57:00  5.353468\n",
       "62419  2020/11/18  15:57:00  5.353516\n",
       "\n",
       "[62420 rows x 3 columns]"
      ]
     },
     "execution_count": 43,
     "metadata": {},
     "output_type": "execute_result"
    }
   ],
   "source": [
    "data4"
   ]
  },
  {
   "cell_type": "code",
   "execution_count": 8,
   "metadata": {},
   "outputs": [
    {
     "data": {
      "text/plain": [
       "1        0.000000\n",
       "2       -0.002613\n",
       "3       -0.000047\n",
       "4        0.000000\n",
       "5        0.000000\n",
       "           ...   \n",
       "62415    0.000043\n",
       "62416    0.000005\n",
       "62417   -0.000024\n",
       "62418   -0.000024\n",
       "62419    0.000047\n",
       "Name: close, Length: 62419, dtype: float64"
      ]
     },
     "execution_count": 8,
     "metadata": {},
     "output_type": "execute_result"
    }
   ],
   "source": [
    "data_diff = data4['close'].diff(1).dropna()\n",
    "data_diff\n",
    "data_diff_square = data_diff * data_diff\n",
    "data_diff.reset_index(drop = True, inplace = True)"
   ]
  },
  {
   "cell_type": "code",
   "execution_count": 9,
   "metadata": {},
   "outputs": [
    {
     "data": {
      "text/plain": [
       "[<matplotlib.lines.Line2D at 0x7f9c8ec49518>]"
      ]
     },
     "execution_count": 9,
     "metadata": {},
     "output_type": "execute_result"
    },
    {
     "data": {
      "text/plain": [
       "Text(0.5, 1.0, 'Realized Volatility')"
      ]
     },
     "execution_count": 9,
     "metadata": {},
     "output_type": "execute_result"
    },
    {
     "data": {
      "text/plain": [
       "Text(0.5, 0, 'Frequency(1/m)')"
      ]
     },
     "execution_count": 9,
     "metadata": {},
     "output_type": "execute_result"
    },
    {
     "data": {
      "text/plain": [
       "Text(0, 0.5, 'RV')"
      ]
     },
     "execution_count": 9,
     "metadata": {},
     "output_type": "execute_result"
    },
    {
     "data": {
      "image/png": "[encoded data removed]",
      "text/plain": [
       "<Figure size 432x288 with 1 Axes>"
      ]
     },
     "metadata": {
      "needs_background": "light"
     },
     "output_type": "display_data"
    }
   ],
   "source": [
    "data_diff_square_cumsum = data_diff_square.cumsum()\n",
    "plt.plot(1/data_diff.index, data_diff_square_cumsum, color = 'black')\n",
    "plt.title('Realized Volatility')\n",
    "plt.xlabel('Frequency(1/m)')\n",
    "plt.ylabel('RV')\n",
    "plt.show()"
   ]
  },
  {
   "cell_type": "markdown",
   "metadata": {},
   "source": [
    "위와 같은 그래프가 나옴."
   ]
  },
  {
   "cell_type": "code",
   "execution_count": 17,
   "metadata": {},
   "outputs": [
    {
     "data": {
      "text/plain": [
       "0        0.000000\n",
       "1       -0.002613\n",
       "2       -0.000047\n",
       "3        0.000000\n",
       "4        0.000000\n",
       "           ...   \n",
       "62414    0.000043\n",
       "62415    0.000005\n",
       "62416   -0.000024\n",
       "62417   -0.000024\n",
       "62418    0.000047\n",
       "Name: close, Length: 62419, dtype: float64"
      ]
     },
     "execution_count": 17,
     "metadata": {},
     "output_type": "execute_result"
    },
    {
     "data": {
      "text/plain": [
       "1        0.000000e+00\n",
       "2        6.826060e-06\n",
       "3        2.182475e-09\n",
       "4        0.000000e+00\n",
       "5        0.000000e+00\n",
       "             ...     \n",
       "62415    1.813440e-09\n",
       "62416    2.238709e-11\n",
       "62417    5.596877e-10\n",
       "62418    5.597142e-10\n",
       "62419    2.238804e-09\n",
       "Name: close, Length: 62419, dtype: float64"
      ]
     },
     "execution_count": 17,
     "metadata": {},
     "output_type": "execute_result"
    },
    {
     "data": {
      "text/plain": [
       "1        0.000000\n",
       "2        0.000007\n",
       "3        0.000007\n",
       "4        0.000007\n",
       "5        0.000007\n",
       "           ...   \n",
       "62415    0.000296\n",
       "62416    0.000296\n",
       "62417    0.000296\n",
       "62418    0.000296\n",
       "62419    0.000296\n",
       "Name: close, Length: 62419, dtype: float64"
      ]
     },
     "execution_count": 17,
     "metadata": {},
     "output_type": "execute_result"
    }
   ],
   "source": [
    "data_diff\n",
    "data_diff_square\n",
    "data_diff_square_cumsum"
   ]
  },
  {
   "cell_type": "code",
   "execution_count": null,
   "metadata": {},
   "outputs": [],
   "source": []
  },
  {
   "cell_type": "code",
   "execution_count": null,
   "metadata": {},
   "outputs": [],
   "source": []
  },
  {
   "cell_type": "markdown",
   "metadata": {},
   "source": [
    "# 5번"
   ]
  },
  {
   "cell_type": "code",
   "execution_count": 10,
   "metadata": {},
   "outputs": [
    {
     "name": "stderr",
     "output_type": "stream",
     "text": [
      "/Library/Frameworks/Python.framework/Versions/3.6/lib/python3.6/site-packages/ipykernel_launcher.py:1: RuntimeWarning: divide by zero encountered in log\n",
      "  \"\"\"Entry point for launching an IPython kernel.\n"
     ]
    },
    {
     "data": {
      "text/plain": [
       "<matplotlib.collections.PathCollection at 0x7f9c8fc0d198>"
      ]
     },
     "execution_count": 10,
     "metadata": {},
     "output_type": "execute_result"
    },
    {
     "data": {
      "text/plain": [
       "Text(0.5, 1.0, 'Realized Volatility of simple difference')"
      ]
     },
     "execution_count": 10,
     "metadata": {},
     "output_type": "execute_result"
    },
    {
     "data": {
      "text/plain": [
       "[None, None, -5e-05, 0.001]"
      ]
     },
     "execution_count": 10,
     "metadata": {},
     "output_type": "execute_result"
    },
    {
     "data": {
      "text/plain": [
       "Text(0.5, 0, 'Log Frequency')"
      ]
     },
     "execution_count": 10,
     "metadata": {},
     "output_type": "execute_result"
    },
    {
     "data": {
      "text/plain": [
       "Text(0, 0.5, 'RV')"
      ]
     },
     "execution_count": 10,
     "metadata": {},
     "output_type": "execute_result"
    },
    {
     "data": {
      "image/png": "[encoded data removed]",
      "text/plain": [
       "<Figure size 432x288 with 1 Axes>"
      ]
     },
     "metadata": {
      "needs_background": "light"
     },
     "output_type": "display_data"
    }
   ],
   "source": [
    "plt.scatter(np.log(data_diff.index), data_diff_square_cumsum, color = 'black')\n",
    "plt.title('Realized Volatility of simple difference')\n",
    "plt.axis([None, None, -0.00005, 0.001])\n",
    "plt.xlabel('Log Frequency')\n",
    "plt.ylabel('RV')\n",
    "plt.show()"
   ]
  },
  {
   "cell_type": "markdown",
   "metadata": {},
   "source": [
    "## PRV"
   ]
  },
  {
   "cell_type": "markdown",
   "metadata": {},
   "source": [
    "웬만해선 건드리지 말자. 시간이 너무 오래 걸린다..."
   ]
  },
  {
   "cell_type": "code",
   "execution_count": 11,
   "metadata": {},
   "outputs": [],
   "source": [
    "kshi = 1/12"
   ]
  },
  {
   "cell_type": "code",
   "execution_count": 12,
   "metadata": {},
   "outputs": [],
   "source": [
    "def gx(x):\n",
    "    return min(x, 1-x)"
   ]
  },
  {
   "cell_type": "code",
   "execution_count": 13,
   "metadata": {},
   "outputs": [],
   "source": [
    "def yBar(K, r):\n",
    "    res = 0\n",
    "    for l in range(K):\n",
    "        res = res + gx(l/K) * data_diff[r+l]\n",
    "    return res"
   ]
  },
  {
   "cell_type": "code",
   "execution_count": 14,
   "metadata": {},
   "outputs": [],
   "source": [
    "def zeta(K):\n",
    "    res = 0\n",
    "    for l in range(K):\n",
    "        res = res + (gx(l/K) - gx((l+1)/K))**2\n",
    "    return res"
   ]
  },
  {
   "cell_type": "code",
   "execution_count": 15,
   "metadata": {},
   "outputs": [],
   "source": [
    "def eta(n):\n",
    "    return 1/(2*n) * data_diff_square_cumsum[n]"
   ]
  },
  {
   "cell_type": "markdown",
   "metadata": {},
   "source": [
    "K = 10으로 진행. 연산속도를 고려해서 n은 log(200)의 frequency 간격을 갖고 진행"
   ]
  },
  {
   "cell_type": "markdown",
   "metadata": {},
   "source": [
    "### 주의!! 시간이 오래 걸림. 건드리지 않는 것을 추천!"
   ]
  },
  {
   "cell_type": "code",
   "execution_count": 73,
   "metadata": {},
   "outputs": [
    {
     "name": "stdout",
     "output_type": "stream",
     "text": [
      "51\n",
      "251\n",
      "451\n",
      "651\n",
      "851\n",
      "1051\n",
      "1251\n",
      "1451\n",
      "1651\n",
      "1851\n",
      "2051\n",
      "2251\n",
      "2451\n",
      "2651\n",
      "2851\n",
      "3051\n",
      "3251\n",
      "3451\n",
      "3651\n",
      "3851\n",
      "4051\n",
      "4251\n",
      "4451\n",
      "4651\n",
      "4851\n",
      "5051\n",
      "5251\n",
      "5451\n",
      "5651\n",
      "5851\n",
      "6051\n",
      "6251\n",
      "6451\n",
      "6651\n",
      "6851\n",
      "7051\n",
      "7251\n",
      "7451\n",
      "7651\n",
      "7851\n",
      "8051\n",
      "8251\n",
      "8451\n",
      "8651\n",
      "8851\n",
      "9051\n",
      "9251\n",
      "9451\n",
      "9651\n",
      "9851\n",
      "10051\n",
      "10251\n",
      "10451\n",
      "10651\n",
      "10851\n",
      "11051\n",
      "11251\n",
      "11451\n",
      "11651\n",
      "11851\n",
      "12051\n",
      "12251\n",
      "12451\n",
      "12651\n",
      "12851\n",
      "13051\n",
      "13251\n",
      "13451\n",
      "13651\n",
      "13851\n",
      "14051\n",
      "14251\n",
      "14451\n",
      "14651\n",
      "14851\n",
      "15051\n",
      "15251\n",
      "15451\n",
      "15651\n",
      "15851\n",
      "16051\n",
      "16251\n",
      "16451\n",
      "16651\n",
      "16851\n",
      "17051\n",
      "17251\n",
      "17451\n",
      "17651\n",
      "17851\n",
      "18051\n",
      "18251\n",
      "18451\n",
      "18651\n",
      "18851\n",
      "19051\n",
      "19251\n",
      "19451\n",
      "19651\n",
      "19851\n",
      "20051\n",
      "20251\n",
      "20451\n",
      "20651\n",
      "20851\n",
      "21051\n",
      "21251\n",
      "21451\n",
      "21651\n",
      "21851\n",
      "22051\n",
      "22251\n",
      "22451\n",
      "22651\n",
      "22851\n",
      "23051\n",
      "23251\n",
      "23451\n",
      "23651\n",
      "23851\n",
      "24051\n",
      "24251\n",
      "24451\n",
      "24651\n",
      "24851\n",
      "25051\n",
      "25251\n",
      "25451\n",
      "25651\n",
      "25851\n",
      "26051\n",
      "26251\n",
      "26451\n",
      "26651\n",
      "26851\n",
      "27051\n",
      "27251\n",
      "27451\n",
      "27651\n",
      "27851\n",
      "28051\n",
      "28251\n",
      "28451\n",
      "28651\n",
      "28851\n",
      "29051\n",
      "29251\n",
      "29451\n",
      "29651\n",
      "29851\n",
      "30051\n",
      "30251\n",
      "30451\n",
      "30651\n",
      "30851\n",
      "31051\n",
      "31251\n",
      "31451\n",
      "31651\n",
      "31851\n",
      "32051\n",
      "32251\n",
      "32451\n",
      "32651\n",
      "32851\n",
      "33051\n",
      "33251\n",
      "33451\n",
      "33651\n",
      "33851\n",
      "34051\n",
      "34251\n",
      "34451\n",
      "34651\n",
      "34851\n",
      "35051\n",
      "35251\n",
      "35451\n",
      "35651\n",
      "35851\n",
      "36051\n",
      "36251\n",
      "36451\n",
      "36651\n",
      "36851\n",
      "37051\n",
      "37251\n",
      "37451\n",
      "37651\n",
      "37851\n",
      "38051\n",
      "38251\n",
      "38451\n",
      "38651\n",
      "38851\n",
      "39051\n",
      "39251\n",
      "39451\n",
      "39651\n",
      "39851\n",
      "40051\n",
      "40251\n",
      "40451\n",
      "40651\n",
      "40851\n",
      "41051\n",
      "41251\n",
      "41451\n",
      "41651\n",
      "41851\n",
      "42051\n",
      "42251\n",
      "42451\n",
      "42651\n",
      "42851\n",
      "43051\n",
      "43251\n",
      "43451\n",
      "43651\n",
      "43851\n",
      "44051\n",
      "44251\n",
      "44451\n",
      "44651\n",
      "44851\n",
      "45051\n",
      "45251\n",
      "45451\n",
      "45651\n",
      "45851\n",
      "46051\n",
      "46251\n",
      "46451\n",
      "46651\n",
      "46851\n",
      "47051\n",
      "47251\n",
      "47451\n",
      "47651\n",
      "47851\n",
      "48051\n",
      "48251\n",
      "48451\n",
      "48651\n",
      "48851\n",
      "49051\n",
      "49251\n",
      "49451\n",
      "49651\n",
      "49851\n",
      "50051\n",
      "50251\n",
      "50451\n",
      "50651\n",
      "50851\n",
      "51051\n",
      "51251\n",
      "51451\n",
      "51651\n",
      "51851\n",
      "52051\n",
      "52251\n",
      "52451\n",
      "52651\n",
      "52851\n",
      "53051\n",
      "53251\n",
      "53451\n",
      "53651\n",
      "53851\n",
      "54051\n",
      "54251\n",
      "54451\n",
      "54651\n",
      "54851\n",
      "55051\n",
      "55251\n",
      "55451\n",
      "55651\n",
      "55851\n",
      "56051\n",
      "56251\n",
      "56451\n",
      "56651\n",
      "56851\n",
      "57051\n",
      "57251\n",
      "57451\n",
      "57651\n",
      "57851\n",
      "58051\n",
      "58251\n",
      "58451\n",
      "58651\n",
      "58851\n",
      "59051\n",
      "59251\n",
      "59451\n",
      "59651\n",
      "59851\n",
      "60051\n",
      "60251\n",
      "60451\n",
      "60651\n",
      "60851\n",
      "61051\n",
      "61251\n",
      "61451\n",
      "61651\n",
      "61851\n",
      "62051\n",
      "62251\n"
     ]
    }
   ],
   "source": [
    "K = 50\n",
    "n = len(data_diff)\n",
    "PRV_idx = []\n",
    "PRV_res = []\n",
    "for _n in range(K+1, n, 200):\n",
    "    _sum = 0\n",
    "    print(_n)\n",
    "    for i in range(_n-K+1):\n",
    "        _sum = _sum + ((yBar(K,i)**2) - zeta(K) * eta(_n))\n",
    "    RV_PRV = 1/(kshi*K) * _sum\n",
    "    PRV_idx.append(_n)\n",
    "    PRV_res.append(RV_PRV)\n",
    "    \n"
   ]
  },
  {
   "cell_type": "code",
   "execution_count": 74,
   "metadata": {},
   "outputs": [
    {
     "data": {
      "text/plain": [
       "<matplotlib.collections.PathCollection at 0x7f9c908fd0b8>"
      ]
     },
     "execution_count": 74,
     "metadata": {},
     "output_type": "execute_result"
    },
    {
     "name": "stderr",
     "output_type": "stream",
     "text": [
      "/Library/Frameworks/Python.framework/Versions/3.6/lib/python3.6/site-packages/ipykernel_launcher.py:2: RuntimeWarning: divide by zero encountered in log\n",
      "  \n"
     ]
    },
    {
     "data": {
      "text/plain": [
       "<matplotlib.collections.PathCollection at 0x7f9c908fd4e0>"
      ]
     },
     "execution_count": 74,
     "metadata": {},
     "output_type": "execute_result"
    },
    {
     "data": {
      "text/plain": [
       "Text(0.5, 1.0, 'Realized Volatility')"
      ]
     },
     "execution_count": 74,
     "metadata": {},
     "output_type": "execute_result"
    },
    {
     "data": {
      "text/plain": [
       "[None, None, -5e-05, 0.001]"
      ]
     },
     "execution_count": 74,
     "metadata": {},
     "output_type": "execute_result"
    },
    {
     "data": {
      "text/plain": [
       "<matplotlib.legend.Legend at 0x7f9c91145b00>"
      ]
     },
     "execution_count": 74,
     "metadata": {},
     "output_type": "execute_result"
    },
    {
     "data": {
      "text/plain": [
       "Text(0.5, 0, 'Log Frequency')"
      ]
     },
     "execution_count": 74,
     "metadata": {},
     "output_type": "execute_result"
    },
    {
     "data": {
      "text/plain": [
       "Text(0, 0.5, 'RV')"
      ]
     },
     "execution_count": 74,
     "metadata": {},
     "output_type": "execute_result"
    },
    {
     "data": {
      "image/png": "[encoded data removed]",
      "text/plain": [
       "<Figure size 432x288 with 1 Axes>"
      ]
     },
     "metadata": {
      "needs_background": "light"
     },
     "output_type": "display_data"
    }
   ],
   "source": [
    "plt.scatter(np.log(np.array(PRV_idx)), PRV_res, color = 'blue', label = 'PRV', s = 5)\n",
    "plt.scatter(np.log(data_diff.index), data_diff_square_cumsum, color = 'black', label = 'Simple difference', s = 5)\n",
    "plt.title('Realized Volatility')\n",
    "plt.axis([None, None, -0.00005, 0.001])\n",
    "plt.legend(loc = 'best')\n",
    "plt.xlabel('Log Frequency')\n",
    "plt.ylabel('RV')\n",
    "plt.show()"
   ]
  },
  {
   "cell_type": "markdown",
   "metadata": {},
   "source": [
    "## MSRV"
   ]
  },
  {
   "cell_type": "code",
   "execution_count": 75,
   "metadata": {},
   "outputs": [],
   "source": [
    "def tow_K(K):\n",
    "    _sum = 0\n",
    "    for i in range(n-K):\n",
    "        _sum = _sum + (data4['close'].iloc[K+i]-data4['close'].iloc[i])**2\n",
    "    return 1/K * _sum"
   ]
  },
  {
   "cell_type": "code",
   "execution_count": 76,
   "metadata": {},
   "outputs": [],
   "source": [
    "def ak(k):\n",
    "    return (12 * (k+N) * (k-M/2-1/2))/(M * (M*M-1))"
   ]
  },
  {
   "cell_type": "markdown",
   "metadata": {},
   "source": [
    "### 주의!! 함부로 실행하지 마시오!! 오래걸립니다!!!"
   ]
  },
  {
   "cell_type": "code",
   "execution_count": null,
   "metadata": {},
   "outputs": [
    {
     "name": "stdout",
     "output_type": "stream",
     "text": [
      "500\n",
      "1500\n",
      "2500\n",
      "3500\n",
      "4500\n",
      "5500\n",
      "6500\n",
      "7500\n",
      "8500\n",
      "9500\n",
      "10500\n",
      "11500\n",
      "12500\n",
      "13500\n",
      "14500\n",
      "15500\n",
      "16500\n",
      "17500\n",
      "18500\n",
      "19500\n",
      "20500\n",
      "21500\n",
      "22500\n",
      "23500\n",
      "24500\n",
      "25500\n",
      "26500\n",
      "27500\n",
      "28500\n",
      "29500\n",
      "30500\n",
      "31500\n",
      "32500\n",
      "33500\n",
      "34500\n",
      "35500\n",
      "36500\n",
      "37500\n",
      "38500\n",
      "39500\n",
      "40500\n",
      "41500\n",
      "42500\n",
      "43500\n",
      "44500\n",
      "45500\n",
      "46500\n",
      "47500\n",
      "48500\n",
      "49500\n",
      "50500\n",
      "51500\n",
      "52500\n",
      "53500\n",
      "54500\n",
      "55500\n",
      "56500\n",
      "57500\n",
      "58500\n",
      "59500\n",
      "60500\n",
      "61500\n"
     ]
    }
   ],
   "source": [
    "# MSRV process\n",
    "c1 = 1\n",
    "c2 = 2\n",
    "# ex1\n",
    "MSRV_idx = np.array(list(range(500, len(data4), 1000)))\n",
    "MSRV_list = []\n",
    "for n in MSRV_idx:\n",
    "    print(n)\n",
    "    N = int(np.round(c1*np.sqrt(n), 0))\n",
    "    M = int(np.round(c2*np.sqrt(n), 0))\n",
    "    zeta2 = ((M+N)*(N+1))/((n+1)*(M-1))\n",
    "    temp_back = (tow_K(N+1) - tow_K(N+M))\n",
    "    _sum = 0\n",
    "    for k in range(M):\n",
    "        _sum = _sum + ak(k) * tow_K(N+k)\n",
    "    res = _sum + zeta2 * temp_back\n",
    "    MSRV_list.append(res)"
   ]
  },
  {
   "cell_type": "code",
   "execution_count": null,
   "metadata": {},
   "outputs": [],
   "source": [
    "#plt.scatter(np.log(np.array(PRV_idx)), PRV_res, color = 'blue', label = 'PRV', s = 5)\n",
    "plt.scatter(np.log(data_diff.index), data_diff_square_cumsum, color = 'black', label = 'Simple difference', s = 5)\n",
    "plt.scatter(np.log(MSRV_idx), MSRV_list, color = 'red', label = 'MSRV', s = 10)\n",
    "plt.title('Realized Volatility')\n",
    "plt.axis([None, None, -0.00005, 0.001])\n",
    "plt.legend(loc = 'best')\n",
    "plt.xlabel('Log Frequency')\n",
    "plt.ylabel('RV')\n",
    "plt.show()"
   ]
  },
  {
   "cell_type": "code",
   "execution_count": null,
   "metadata": {},
   "outputs": [],
   "source": []
  },
  {
   "cell_type": "code",
   "execution_count": null,
   "metadata": {},
   "outputs": [],
   "source": []
  }
 ],
 "metadata": {
  "kernelspec": {
   "display_name": "Python 3",
   "language": "python",
   "name": "python3"
  },
  "language_info": {
   "codemirror_mode": {
    "name": "ipython",
    "version": 3
   },
   "file_extension": ".py",
   "mimetype": "text/x-python",
   "name": "python",
   "nbconvert_exporter": "python",
   "pygments_lexer": "ipython3",
   "version": "3.6.8"
  }
 },
 "nbformat": 4,
 "nbformat_minor": 2
}
